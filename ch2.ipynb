{
 "metadata": {
  "name": "",
  "signature": "sha256:602c716fcfaf87c94074f9aa16165fc43fb65f0fadfc8752462acb16a1a0eed6"
 },
 "nbformat": 3,
 "nbformat_minor": 0,
 "worksheets": [
  {
   "cells": [
    {
     "cell_type": "code",
     "collapsed": false,
     "input": [
      "import numpy as np"
     ],
     "language": "python",
     "metadata": {},
     "outputs": [],
     "prompt_number": 3
    },
    {
     "cell_type": "code",
     "collapsed": false,
     "input": [
      "## x <- c(1,3,2,5)\n",
      "x = np.array([1,3,2,5])\n",
      "## x\n",
      "print x"
     ],
     "language": "python",
     "metadata": {},
     "outputs": [
      {
       "output_type": "stream",
       "stream": "stdout",
       "text": [
        "[1 3 2 5]\n"
       ]
      }
     ],
     "prompt_number": 4
    },
    {
     "cell_type": "code",
     "collapsed": false,
     "input": [
      "## x = c(1,6,2)\n",
      "x = np.array([1,6,2])\n",
      "## y = c(1,4,3)\n",
      "y = np.array([1,4,3])"
     ],
     "language": "python",
     "metadata": {},
     "outputs": [],
     "prompt_number": 29
    },
    {
     "cell_type": "code",
     "collapsed": false,
     "input": [
      "print len(x)\n",
      "print len(y)"
     ],
     "language": "python",
     "metadata": {},
     "outputs": [
      {
       "output_type": "stream",
       "stream": "stdout",
       "text": [
        "3\n",
        "3\n"
       ]
      }
     ],
     "prompt_number": 9
    },
    {
     "cell_type": "code",
     "collapsed": false,
     "input": [
      "print x + y"
     ],
     "language": "python",
     "metadata": {},
     "outputs": [
      {
       "output_type": "stream",
       "stream": "stdout",
       "text": [
        "[ 2 10  5]\n"
       ]
      }
     ],
     "prompt_number": 10
    },
    {
     "cell_type": "code",
     "collapsed": false,
     "input": [
      "## ls()\n",
      "%who\n",
      "%whos\n",
      "%whos ndarray\n",
      "%whos function"
     ],
     "language": "python",
     "metadata": {},
     "outputs": [
      {
       "output_type": "stream",
       "stream": "stdout",
       "text": [
        "pprint\t x\t y\t \n",
        "Variable   Type       Data/Info\n",
        "-------------------------------\n",
        "pprint     module     <module 'pprint' from '/u<...>ib/python2.7/pprint.pyc'>\n",
        "x          ndarray    3: 3 elems, type `int64`, 24 bytes\n",
        "y          ndarray    3: 3 elems, type `int64`, 24 bytes\n",
        "Variable   Type       Data/Info\n",
        "-------------------------------\n",
        "x          ndarray    3: 3 elems, type `int64`, 24 bytes\n",
        "y          ndarray    3: 3 elems, type `int64`, 24 bytes\n",
        "No variables match your requested type.\n"
       ]
      }
     ],
     "prompt_number": 22
    },
    {
     "cell_type": "markdown",
     "metadata": {},
     "source": [
      "###For more ipy commands, click [here](http://pages.physics.cornell.edu/~myers/teaching/ComputationalMethods/python/ipython.html)"
     ]
    },
    {
     "cell_type": "code",
     "collapsed": false,
     "input": [
      "## rm(x,y)\n",
      "%reset_selective [x,y]\n"
     ],
     "language": "python",
     "metadata": {},
     "outputs": [
      {
       "name": "stdout",
       "output_type": "stream",
       "stream": "stdout",
       "text": [
        "Once deleted, variables cannot be recovered. Proceed (y/[n])?  y\n"
       ]
      }
     ],
     "prompt_number": 31
    },
    {
     "cell_type": "code",
     "collapsed": false,
     "input": [
      "%who"
     ],
     "language": "python",
     "metadata": {},
     "outputs": [
      {
       "output_type": "stream",
       "stream": "stdout",
       "text": [
        "pprint\t \n"
       ]
      }
     ],
     "prompt_number": 32
    },
    {
     "cell_type": "code",
     "collapsed": false,
     "input": [
      "x = 1\n",
      "y = 2\n",
      "%who\n",
      "## rm(list=ls())\n",
      "%reset\n",
      "%who"
     ],
     "language": "python",
     "metadata": {},
     "outputs": [
      {
       "output_type": "stream",
       "stream": "stdout",
       "text": [
        "pprint\t x\t y\t \n"
       ]
      },
      {
       "name": "stdout",
       "output_type": "stream",
       "stream": "stdout",
       "text": [
        "Once deleted, variables cannot be recovered. Proceed (y/[n])? y\n"
       ]
      },
      {
       "output_type": "stream",
       "stream": "stdout",
       "text": [
        "Interactive namespace is empty.\n"
       ]
      }
     ],
     "prompt_number": 35
    },
    {
     "cell_type": "code",
     "collapsed": false,
     "input": [
      "# need to reload numpy\n",
      "import numpy as np "
     ],
     "language": "python",
     "metadata": {},
     "outputs": [],
     "prompt_number": 37
    },
    {
     "cell_type": "code",
     "collapsed": false,
     "input": [
      "## ?matrix\n",
      "?np.matrix"
     ],
     "language": "python",
     "metadata": {},
     "outputs": [],
     "prompt_number": 40
    },
    {
     "cell_type": "code",
     "collapsed": false,
     "input": [
      "## x=matrix(data=c(1,2,3,4), nrow=2, ncol=2)\n",
      "x = np.matrix('1,2;3,4')\n",
      "print x"
     ],
     "language": "python",
     "metadata": {},
     "outputs": [
      {
       "output_type": "stream",
       "stream": "stdout",
       "text": [
        "[[1 2]\n",
        " [3 4]]\n"
       ]
      }
     ],
     "prompt_number": 44
    },
    {
     "cell_type": "code",
     "collapsed": false,
     "input": [
      "## sqrt(x)\n",
      "# tried a couple hard ways before finding the easy solution....\n",
      "# this isn't element-wise sqrt\n",
      "import scipy.linalg as la\n",
      "print la.sqrtm(x)\n",
      "\n",
      "# this is element-wise but fails weirdly: \n",
      "print np.sqrt(x.data)\n",
      "\n",
      "# solution:\n",
      "np.sqrt(x)"
     ],
     "language": "python",
     "metadata": {},
     "outputs": [
      {
       "output_type": "stream",
       "stream": "stdout",
       "text": [
        "[[ 0.55368857+0.46439416j  0.80696073-0.21242648j]\n",
        " [ 1.21044109-0.31863972j  1.76412966+0.14575444j]]\n",
        "[ 1.          0.          0.          0.          0.          0.          0.\n",
        "  0.          1.41421354  0.          0.          0.          0.          0.\n",
        "  0.          0.          1.73205078  0.          0.          0.          0.\n",
        "  0.          0.          0.          2.          0.          0.          0.\n",
        "  0.          0.          0.          0.        ]\n"
       ]
      }
     ],
     "prompt_number": 53
    },
    {
     "cell_type": "code",
     "collapsed": false,
     "input": [
      "## x^2 \n",
      "x^2"
     ],
     "language": "python",
     "metadata": {},
     "outputs": [
      {
       "metadata": {},
       "output_type": "pyout",
       "prompt_number": 54,
       "text": [
        "matrix([[3, 0],\n",
        "        [1, 6]])"
       ]
      }
     ],
     "prompt_number": 54
    },
    {
     "cell_type": "code",
     "collapsed": false,
     "input": [
      "## rnorm(50)\n",
      "# this isn't actually normally distributed with mean=0 and std=1\n",
      "x = np.random.rand(50)\n",
      "\n",
      "# this is though\n",
      "x = np.random.normal(loc=0.0, scale=1.0, size = 50)\n",
      "\n",
      "print x"
     ],
     "language": "python",
     "metadata": {},
     "outputs": [
      {
       "output_type": "stream",
       "stream": "stdout",
       "text": [
        "[-0.75846178 -0.02023884  0.15390211  0.87327635 -0.2637085  -0.65443094\n",
        " -1.60854027  0.28130595 -1.01240909 -2.13198072  0.87157611 -0.39303788\n",
        "  0.40348469  0.99697115  0.4696524   1.04251329 -0.3244313  -0.1266914\n",
        "  1.11048946 -0.15148254 -0.37040121 -0.51921399  0.83225307 -1.36724053\n",
        " -0.33382837 -1.36098439 -0.42352673 -1.58742601  1.17883443  1.14662159\n",
        "  0.0263743  -0.04668247 -0.35329271 -0.10666507  1.6612398  -1.29567538\n",
        "  0.23484491 -0.04842875  0.67698634  0.75315106 -1.42180365  0.68182962\n",
        " -0.5145259   1.42879631  0.43050712 -1.92768432 -0.40079851  2.62146456\n",
        "  0.76429345  0.26629354]\n"
       ]
      }
     ],
     "prompt_number": 79
    },
    {
     "cell_type": "code",
     "collapsed": false,
     "input": [
      "## y=x+rnorm(50,mean=50,sd=.1)\n",
      "y = x + np.random.normal(loc=50.0, scale=0.1, size = 50)\n",
      "print y"
     ],
     "language": "python",
     "metadata": {},
     "outputs": [
      {
       "output_type": "stream",
       "stream": "stdout",
       "text": [
        "[ 49.32896679  49.85040749  50.14592801  50.9297249   49.85963861\n",
        "  49.3604677   48.33840151  50.20825328  49.0520971   47.89932532\n",
        "  50.81991132  49.58805496  50.36186489  51.06943691  50.40065634\n",
        "  51.09115473  49.7607206   49.92193353  51.02706547  49.98301671\n",
        "  49.56177752  49.52342952  50.75691959  48.45834845  49.68874665\n",
        "  48.66771912  49.56872918  48.44018083  51.11399334  51.0728751\n",
        "  50.00956529  50.14424521  49.72818875  49.84133576  51.71711112\n",
        "  48.65648816  50.18911883  50.03749965  50.62445988  50.5855876\n",
        "  48.48754688  50.69067114  49.49827489  51.55295796  50.35890454\n",
        "  48.14546225  49.64179816  52.60656318  50.84787784  50.31550543]\n"
       ]
      }
     ],
     "prompt_number": 86
    },
    {
     "cell_type": "code",
     "collapsed": false,
     "input": [
      "np.correlate(x,y)"
     ],
     "language": "python",
     "metadata": {},
     "outputs": [
      {
       "metadata": {},
       "output_type": "pyout",
       "prompt_number": 87,
       "text": [
        "array([ 16.17945081])"
       ]
      }
     ],
     "prompt_number": 87
    },
    {
     "cell_type": "code",
     "collapsed": false,
     "input": [
      "## set.seed(1303)\n",
      "np.random.seed(1303)\n",
      "## rnorm(50)\n",
      "np.random.normal(loc=0.0, scale=1.0, size = 50)\n",
      "# set.seed(3)\n",
      "np.random.seed(3)\n",
      "## y= rnorm(100)\n",
      "y = np.random.normal(loc=0.0, scale=1.0, size =100)\n"
     ],
     "language": "python",
     "metadata": {},
     "outputs": [],
     "prompt_number": 85
    },
    {
     "cell_type": "code",
     "collapsed": false,
     "input": [
      "## mean(y)\n",
      "np.mean(y)\n",
      "## var(y)\n",
      "np.var(y)\n",
      "## sqrt(var(y))\n",
      "np.sqrt(np.var(y))\n",
      "## sd(y)\n",
      "np.std(y)"
     ],
     "language": "python",
     "metadata": {},
     "outputs": [
      {
       "metadata": {},
       "output_type": "pyout",
       "prompt_number": 91,
       "text": [
        "0.97073845472449971"
       ]
      }
     ],
     "prompt_number": 91
    },
    {
     "cell_type": "markdown",
     "metadata": {},
     "source": [
      "# Graphics"
     ]
    },
    {
     "cell_type": "code",
     "collapsed": false,
     "input": [
      "## x=rnorm(100)\n",
      "x = np.random.normal(loc=0.0, scale=1.0, size = 100)\n",
      "## y=rnorm(100)\n",
      "y = np.random.normal(loc=0.0, scale=1.0, size = 100)"
     ],
     "language": "python",
     "metadata": {},
     "outputs": [],
     "prompt_number": 93
    },
    {
     "cell_type": "code",
     "collapsed": false,
     "input": [
      "import matplotlib.pyplot as plt"
     ],
     "language": "python",
     "metadata": {},
     "outputs": [],
     "prompt_number": 96
    },
    {
     "cell_type": "code",
     "collapsed": false,
     "input": [
      "## plot(x,y)\n",
      "plt.plot(x, y, 'ro')"
     ],
     "language": "python",
     "metadata": {},
     "outputs": [
      {
       "metadata": {},
       "output_type": "pyout",
       "prompt_number": 100,
       "text": [
        "[<matplotlib.lines.Line2D at 0x10f5b14d0>]"
       ]
      },
      {
       "metadata": {},
       "output_type": "display_data",
       "png": "[encoded data removed]",
       "text": [
        "<matplotlib.figure.Figure at 0x10f45ced0>"
       ]
      }
     ],
     "prompt_number": 100
    },
    {
     "cell_type": "code",
     "collapsed": false,
     "input": [],
     "language": "python",
     "metadata": {},
     "outputs": []
    }
   ],
   "metadata": {}
  }
 ]
}